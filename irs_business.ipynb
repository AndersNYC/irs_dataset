{
 "cells": [
  {
   "cell_type": "markdown",
   "metadata": {},
   "source": [
    "# Intro: opening file and checking data"
   ]
  },
  {
   "cell_type": "markdown",
   "metadata": {},
   "source": [
    "First, we import the libraries that we will need to use. By convention, we leave them all on the beginning of the script. If later we realize we need other libraries, we will come back and put them here."
   ]
  },
  {
   "cell_type": "code",
   "execution_count": 1,
   "metadata": {},
   "outputs": [],
   "source": [
    "import pandas as pd"
   ]
  },
  {
   "cell_type": "markdown",
   "metadata": {},
   "source": [
    "Pandas `read_csv()` function grabs the values from a csv file and transforms it on a dataframe object. "
   ]
  },
  {
   "cell_type": "code",
   "execution_count": 2,
   "metadata": {},
   "outputs": [
    {
     "name": "stderr",
     "output_type": "stream",
     "text": [
      "/home/rafa/anaconda3/lib/python3.7/site-packages/IPython/core/interactiveshell.py:3020: DtypeWarning: Columns (11) have mixed types. Specify dtype option on import or set low_memory=False.\n",
      "  interactivity=interactivity, compiler=compiler, result=result)\n"
     ]
    }
   ],
   "source": [
    "irs = pd.read_csv('bmf.bm1812.csv')"
   ]
  },
  {
   "cell_type": "markdown",
   "metadata": {},
   "source": [
    "The error message means we are not doing the most efficient way of making this conversion, but we shouldn't be concerned with that.\n",
    "\n"
   ]
  },
  {
   "cell_type": "markdown",
   "metadata": {},
   "source": [
    "We use some basic functions to take a quick look at our dataframe. \n",
    "`irs.shape` returns the number of rows and columns. In this case, both are huge.\n",
    "`irs.head()` shows only the first 5 observations. Jupyter notebook shows only a limited number of columns, which depend on the screen size. \n",
    "To see a list with all the columns, we use `irs.columns`\n"
   ]
  },
  {
   "cell_type": "code",
   "execution_count": 3,
   "metadata": {},
   "outputs": [
    {
     "data": {
      "text/plain": [
       "(1499450, 40)"
      ]
     },
     "execution_count": 3,
     "metadata": {},
     "output_type": "execute_result"
    }
   ],
   "source": [
    "irs.shape"
   ]
  },
  {
   "cell_type": "code",
   "execution_count": 4,
   "metadata": {
    "scrolled": true
   },
   "outputs": [
    {
     "data": {
      "text/html": [
       "<div>\n",
       "<style scoped>\n",
       "    .dataframe tbody tr th:only-of-type {\n",
       "        vertical-align: middle;\n",
       "    }\n",
       "\n",
       "    .dataframe tbody tr th {\n",
       "        vertical-align: top;\n",
       "    }\n",
       "\n",
       "    .dataframe thead th {\n",
       "        text-align: right;\n",
       "    }\n",
       "</style>\n",
       "<table border=\"1\" class=\"dataframe\">\n",
       "  <thead>\n",
       "    <tr style=\"text-align: right;\">\n",
       "      <th></th>\n",
       "      <th>EIN</th>\n",
       "      <th>SEC_NAME</th>\n",
       "      <th>FRCD</th>\n",
       "      <th>SUBSECCD</th>\n",
       "      <th>TAXPER</th>\n",
       "      <th>ASSETS</th>\n",
       "      <th>INCOME</th>\n",
       "      <th>NAME</th>\n",
       "      <th>ADDRESS</th>\n",
       "      <th>CITY</th>\n",
       "      <th>...</th>\n",
       "      <th>LEVEL4</th>\n",
       "      <th>LEVEL1</th>\n",
       "      <th>NTMAJ10</th>\n",
       "      <th>MAJGRPB</th>\n",
       "      <th>LEVEL3</th>\n",
       "      <th>LEVEL2</th>\n",
       "      <th>NTMAJ12</th>\n",
       "      <th>NTMAJ5</th>\n",
       "      <th>FILER</th>\n",
       "      <th>ZFILER</th>\n",
       "    </tr>\n",
       "  </thead>\n",
       "  <tbody>\n",
       "    <tr>\n",
       "      <th>0</th>\n",
       "      <td>19818</td>\n",
       "      <td>3514</td>\n",
       "      <td>60</td>\n",
       "      <td>3</td>\n",
       "      <td>NaN</td>\n",
       "      <td>NaN</td>\n",
       "      <td>NaN</td>\n",
       "      <td>PALMER SECOND BAPTIST CHURCH</td>\n",
       "      <td>1050 THORNDIKE ST</td>\n",
       "      <td>PALMER</td>\n",
       "      <td>...</td>\n",
       "      <td>X</td>\n",
       "      <td>PC</td>\n",
       "      <td>RE</td>\n",
       "      <td>X</td>\n",
       "      <td>RE</td>\n",
       "      <td>O</td>\n",
       "      <td>RE</td>\n",
       "      <td>OT</td>\n",
       "      <td>N</td>\n",
       "      <td>N</td>\n",
       "    </tr>\n",
       "    <tr>\n",
       "      <th>1</th>\n",
       "      <td>29215</td>\n",
       "      <td>NaN</td>\n",
       "      <td>60</td>\n",
       "      <td>3</td>\n",
       "      <td>NaN</td>\n",
       "      <td>NaN</td>\n",
       "      <td>NaN</td>\n",
       "      <td>ST GEORGE CATHEDRAL</td>\n",
       "      <td>523 E BROADWAY</td>\n",
       "      <td>SOUTH BOSTON</td>\n",
       "      <td>...</td>\n",
       "      <td>X</td>\n",
       "      <td>PC</td>\n",
       "      <td>RE</td>\n",
       "      <td>X</td>\n",
       "      <td>RE</td>\n",
       "      <td>O</td>\n",
       "      <td>RE</td>\n",
       "      <td>OT</td>\n",
       "      <td>N</td>\n",
       "      <td>N</td>\n",
       "    </tr>\n",
       "    <tr>\n",
       "      <th>2</th>\n",
       "      <td>260049</td>\n",
       "      <td>NaN</td>\n",
       "      <td>60</td>\n",
       "      <td>3</td>\n",
       "      <td>NaN</td>\n",
       "      <td>NaN</td>\n",
       "      <td>NaN</td>\n",
       "      <td>CORINTH BAPTIST CHURCH</td>\n",
       "      <td>PO BOX 92</td>\n",
       "      <td>HOSFORD</td>\n",
       "      <td>...</td>\n",
       "      <td>X</td>\n",
       "      <td>PC</td>\n",
       "      <td>RE</td>\n",
       "      <td>X</td>\n",
       "      <td>RE</td>\n",
       "      <td>O</td>\n",
       "      <td>RE</td>\n",
       "      <td>OT</td>\n",
       "      <td>N</td>\n",
       "      <td>N</td>\n",
       "    </tr>\n",
       "    <tr>\n",
       "      <th>3</th>\n",
       "      <td>490336</td>\n",
       "      <td>NaN</td>\n",
       "      <td>60</td>\n",
       "      <td>3</td>\n",
       "      <td>NaN</td>\n",
       "      <td>NaN</td>\n",
       "      <td>NaN</td>\n",
       "      <td>EASTSIDE BAPTIST CHURCH</td>\n",
       "      <td>PO BOX 296</td>\n",
       "      <td>LABELLE</td>\n",
       "      <td>...</td>\n",
       "      <td>X</td>\n",
       "      <td>PC</td>\n",
       "      <td>RE</td>\n",
       "      <td>X</td>\n",
       "      <td>RE</td>\n",
       "      <td>O</td>\n",
       "      <td>RE</td>\n",
       "      <td>OT</td>\n",
       "      <td>N</td>\n",
       "      <td>N</td>\n",
       "    </tr>\n",
       "    <tr>\n",
       "      <th>4</th>\n",
       "      <td>587764</td>\n",
       "      <td>NaN</td>\n",
       "      <td>60</td>\n",
       "      <td>3</td>\n",
       "      <td>NaN</td>\n",
       "      <td>NaN</td>\n",
       "      <td>NaN</td>\n",
       "      <td>IGLESIA BETHESDA INC</td>\n",
       "      <td>157 ANDOVER ST</td>\n",
       "      <td>LOWELL</td>\n",
       "      <td>...</td>\n",
       "      <td>X</td>\n",
       "      <td>PC</td>\n",
       "      <td>RE</td>\n",
       "      <td>X</td>\n",
       "      <td>RE</td>\n",
       "      <td>O</td>\n",
       "      <td>RE</td>\n",
       "      <td>OT</td>\n",
       "      <td>N</td>\n",
       "      <td>N</td>\n",
       "    </tr>\n",
       "  </tbody>\n",
       "</table>\n",
       "<p>5 rows × 40 columns</p>\n",
       "</div>"
      ],
      "text/plain": [
       "      EIN SEC_NAME  FRCD  SUBSECCD  TAXPER  ASSETS  INCOME  \\\n",
       "0   19818     3514    60         3     NaN     NaN     NaN   \n",
       "1   29215      NaN    60         3     NaN     NaN     NaN   \n",
       "2  260049      NaN    60         3     NaN     NaN     NaN   \n",
       "3  490336      NaN    60         3     NaN     NaN     NaN   \n",
       "4  587764      NaN    60         3     NaN     NaN     NaN   \n",
       "\n",
       "                           NAME            ADDRESS          CITY   ...    \\\n",
       "0  PALMER SECOND BAPTIST CHURCH  1050 THORNDIKE ST        PALMER   ...     \n",
       "1           ST GEORGE CATHEDRAL     523 E BROADWAY  SOUTH BOSTON   ...     \n",
       "2        CORINTH BAPTIST CHURCH          PO BOX 92       HOSFORD   ...     \n",
       "3       EASTSIDE BAPTIST CHURCH         PO BOX 296       LABELLE   ...     \n",
       "4          IGLESIA BETHESDA INC     157 ANDOVER ST        LOWELL   ...     \n",
       "\n",
       "  LEVEL4 LEVEL1 NTMAJ10  MAJGRPB  LEVEL3 LEVEL2 NTMAJ12  NTMAJ5  FILER  ZFILER  \n",
       "0      X     PC      RE        X      RE      O      RE      OT      N       N  \n",
       "1      X     PC      RE        X      RE      O      RE      OT      N       N  \n",
       "2      X     PC      RE        X      RE      O      RE      OT      N       N  \n",
       "3      X     PC      RE        X      RE      O      RE      OT      N       N  \n",
       "4      X     PC      RE        X      RE      O      RE      OT      N       N  \n",
       "\n",
       "[5 rows x 40 columns]"
      ]
     },
     "execution_count": 4,
     "metadata": {},
     "output_type": "execute_result"
    }
   ],
   "source": [
    "irs.head()"
   ]
  },
  {
   "cell_type": "code",
   "execution_count": 5,
   "metadata": {},
   "outputs": [
    {
     "data": {
      "text/plain": [
       "Index(['EIN', 'SEC_NAME', 'FRCD', 'SUBSECCD', 'TAXPER', 'ASSETS', 'INCOME',\n",
       "       'NAME', 'ADDRESS', 'CITY', 'STATE', 'NTEECONF', 'NTEEFINAL', 'NAICS',\n",
       "       'ZIP5', 'OUTNCCS', 'OUTREAS', 'RULEDATE', 'FIPS', 'FNDNCD', 'PMSA',\n",
       "       'MSA_NECH', 'CASSETS', 'CFINSRC', 'CTAXPER', 'CTOTREV', 'ACCPER',\n",
       "       'RANDNUM', 'NTEECC', 'NTEE1', 'LEVEL4', 'LEVEL1', 'NTMAJ10', 'MAJGRPB',\n",
       "       'LEVEL3', 'LEVEL2', 'NTMAJ12', 'NTMAJ5', 'FILER', 'ZFILER'],\n",
       "      dtype='object')"
      ]
     },
     "execution_count": 5,
     "metadata": {},
     "output_type": "execute_result"
    }
   ],
   "source": [
    "irs.columns"
   ]
  },
  {
   "cell_type": "markdown",
   "metadata": {},
   "source": [
    "Another good function to check the dataframe is `irs.info(verbose=True)`. With it, we can see the object types of each column and how many are missing that particular information. This is important when we are choosing the columns to analyze. RIght now it is good to know that all observations have a value for CITY and ADDRESS since we want to separate the data for new york only. ZIP5 is missing only few, while STATE and FIPS are missing some thousands. They are still very usable, though."
   ]
  },
  {
   "cell_type": "code",
   "execution_count": 6,
   "metadata": {},
   "outputs": [
    {
     "name": "stdout",
     "output_type": "stream",
     "text": [
      "<class 'pandas.core.frame.DataFrame'>\n",
      "RangeIndex: 1499450 entries, 0 to 1499449\n",
      "Data columns (total 40 columns):\n",
      "EIN          1499450 non-null int64\n",
      "SEC_NAME     404909 non-null object\n",
      "FRCD         1499450 non-null int64\n",
      "SUBSECCD     1499450 non-null int64\n",
      "TAXPER       1240366 non-null float64\n",
      "ASSETS       1223112 non-null float64\n",
      "INCOME       1223112 non-null float64\n",
      "NAME         1499450 non-null object\n",
      "ADDRESS      1499450 non-null object\n",
      "CITY         1499450 non-null object\n",
      "STATE        1498426 non-null object\n",
      "NTEECONF     4518 non-null object\n",
      "NTEEFINAL    1499450 non-null object\n",
      "NAICS        1495191 non-null float64\n",
      "ZIP5         1499353 non-null float64\n",
      "OUTNCCS      1499450 non-null object\n",
      "OUTREAS      3021 non-null object\n",
      "RULEDATE     1499450 non-null int64\n",
      "FIPS         1496643 non-null float64\n",
      "FNDNCD       1499450 non-null int64\n",
      "PMSA         506362 non-null float64\n",
      "MSA_NECH     1175676 non-null float64\n",
      "CASSETS      542418 non-null float64\n",
      "CFINSRC      542418 non-null object\n",
      "CTAXPER      542418 non-null float64\n",
      "CTOTREV      542418 non-null float64\n",
      "ACCPER       1240366 non-null float64\n",
      "RANDNUM      1499450 non-null float64\n",
      "NTEECC       1499450 non-null object\n",
      "NTEE1        1499450 non-null object\n",
      "LEVEL4       1499450 non-null object\n",
      "LEVEL1       1499450 non-null object\n",
      "NTMAJ10      1499450 non-null object\n",
      "MAJGRPB      1499450 non-null object\n",
      "LEVEL3       1499450 non-null object\n",
      "LEVEL2       1499450 non-null object\n",
      "NTMAJ12      1499450 non-null object\n",
      "NTMAJ5       1499450 non-null object\n",
      "FILER        1499450 non-null object\n",
      "ZFILER       1499450 non-null object\n",
      "dtypes: float64(13), int64(5), object(22)\n",
      "memory usage: 457.6+ MB\n"
     ]
    }
   ],
   "source": [
    "irs.info(verbose=True)"
   ]
  },
  {
   "cell_type": "markdown",
   "metadata": {},
   "source": [
    "# Separating arts institutions"
   ]
  },
  {
   "cell_type": "markdown",
   "metadata": {},
   "source": [
    "What we want to do now, is to create a subsection of the data, restricting the observation to art related and new york city based only. By doing that, we will have a much smaller sample to work with. For that, we need to make sense out of the many NTEE-related columns. Reading from the [dictionary of 2016](https://nccs-data.urban.org/dd2.php?close=1&form=BMF+08/2016) (unfortunately, we don't have a dictionary for 2018, but it should be the same), the column that makes sense to use is NTEECC - which stands for National Taxonomy of Exempt Entities Core Codes. This column is about the primary category of the institution. More about the NTEECC [here](https://nccs.urban.org/project/irs-activity-codes) and for the full list of codes, check [here](https://nccs.urban.org/publication/irs-activity-codes)\n"
   ]
  },
  {
   "cell_type": "markdown",
   "metadata": {},
   "source": [
    "`.value_counts()` shows how many occurrances we had for each value in the NTEECC column. It is a good way to have a sense of the data in that column."
   ]
  },
  {
   "cell_type": "code",
   "execution_count": 7,
   "metadata": {},
   "outputs": [
    {
     "data": {
      "text/plain": [
       "X20     126651\n",
       "X21     106577\n",
       "T20      41652\n",
       "W30      38862\n",
       "S80      32814\n",
       "B94      31545\n",
       "B83      30338\n",
       "T22      27565\n",
       "N50      24052\n",
       "J40      23871\n",
       "Y41      21530\n",
       "B82      19331\n",
       "B11      18857\n",
       "N60      18442\n",
       "S41      18367\n",
       "P20      17684\n",
       "S20      17452\n",
       "D20      17008\n",
       "M24      16854\n",
       "Y42      15969\n",
       "X99      15623\n",
       "B03      13899\n",
       "A80      12418\n",
       "A23      12399\n",
       "S81      11610\n",
       "N63      11508\n",
       "W70      10709\n",
       "B99      10470\n",
       "A82      10291\n",
       "O50       8823\n",
       "         ...  \n",
       "W057         1\n",
       "P116         1\n",
       "O195         1\n",
       "H059         1\n",
       "B055         1\n",
       "L028         1\n",
       "Q034         1\n",
       "O024         1\n",
       "G027         1\n",
       "K014         1\n",
       "J023         1\n",
       "R113         1\n",
       "F126         1\n",
       "A197         1\n",
       "C196         1\n",
       "N037         1\n",
       "C194         1\n",
       "Q024         1\n",
       "B126         1\n",
       "D016         1\n",
       "H128         1\n",
       "G023         1\n",
       "N194         1\n",
       "L194         1\n",
       "I113         1\n",
       "I057         1\n",
       "W055         1\n",
       "L113         1\n",
       "Q017         1\n",
       "A055         1\n",
       "Name: NTEECC, Length: 1443, dtype: int64"
      ]
     },
     "execution_count": 7,
     "metadata": {},
     "output_type": "execute_result"
    }
   ],
   "source": [
    "irs.NTEECC.value_counts()"
   ]
  },
  {
   "cell_type": "markdown",
   "metadata": {},
   "source": [
    "The \"length: 1443\" tell hos how many unique values we've got. If we only wanted that, we could have run `irs.NTEECC.nunique()` "
   ]
  },
  {
   "cell_type": "markdown",
   "metadata": {},
   "source": [
    "Now I want to create a subset of the data including only the ones with NTEECC starting with an A. The A code is for Arts, Culture & Humanities, and by definition is for \"Private nonprofit organizations whose primary purpose is to promote appreciation for and enjoyment and understanding of the visual, performing, folk, and media arts; the humanities (archaeology, art history, modern and classical languages, philosophy, ethics, theology, and comparative religion); history and historical events; and/or communications (film, video, publishing, journalism, radio, television).\"  [source and complete list of codes](https://nccs.urban.org/publication/irs-activity-codes)\n",
    "\n",
    "We will probably have to have people sit, read all the codes and decide which ones are relevant. This will make our lives easier later, with less cases to operate with, and our maps less cluttered"
   ]
  },
  {
   "cell_type": "code",
   "execution_count": 8,
   "metadata": {},
   "outputs": [],
   "source": [
    "As = irs[irs.NTEECC.str.startswith('A')]"
   ]
  },
  {
   "cell_type": "markdown",
   "metadata": {},
   "source": [
    "The above was a quick command to create a new variable with the subset only for the A's. The way  to read it is: my new variable (As) will be the dataframe (irs) when the value for the column (irs.NTEECC) seen as a string (str) starts with A (startswith('A'))\n",
    "\n"
   ]
  },
  {
   "cell_type": "markdown",
   "metadata": {},
   "source": [
    "Now we run `.value_counts()` again to see if it worked, and `.shape` to see the size of our subset"
   ]
  },
  {
   "cell_type": "code",
   "execution_count": 9,
   "metadata": {},
   "outputs": [
    {
     "data": {
      "text/plain": [
       "A80     12418\n",
       "A23     12399\n",
       "A82     10291\n",
       "A65      7900\n",
       "A68      5756\n",
       "A50      4992\n",
       "A40      4537\n",
       "A20      4520\n",
       "A6B      4185\n",
       "A62      3542\n",
       "A6C      3100\n",
       "A70      3031\n",
       "A69      2425\n",
       "A60      2236\n",
       "A25      2193\n",
       "A99      2013\n",
       "A54      2005\n",
       "A30      1901\n",
       "A33      1881\n",
       "A26      1867\n",
       "A31      1510\n",
       "A6E      1337\n",
       "A61      1076\n",
       "A03       977\n",
       "A34       954\n",
       "A84       952\n",
       "A12       912\n",
       "A32       879\n",
       "A63       857\n",
       "A116      736\n",
       "        ...  \n",
       "A022       33\n",
       "A018       24\n",
       "A192       23\n",
       "A052       22\n",
       "A193       19\n",
       "A017       17\n",
       "A123       17\n",
       "A058       17\n",
       "A056       16\n",
       "A194       16\n",
       "A125       13\n",
       "A024       13\n",
       "A195       13\n",
       "A023        9\n",
       "A053        9\n",
       "A054        8\n",
       "A025        8\n",
       "A028        7\n",
       "A199        6\n",
       "A129        6\n",
       "A057        6\n",
       "A039        5\n",
       "A029        5\n",
       "A198        4\n",
       "A015        4\n",
       "A027        4\n",
       "A019        2\n",
       "A055        1\n",
       "A197        1\n",
       "A127        1\n",
       "Name: NTEECC, Length: 98, dtype: int64"
      ]
     },
     "execution_count": 9,
     "metadata": {},
     "output_type": "execute_result"
    }
   ],
   "source": [
    "As['NTEECC'].value_counts()"
   ]
  },
  {
   "cell_type": "code",
   "execution_count": 10,
   "metadata": {},
   "outputs": [
    {
     "data": {
      "text/plain": [
       "(113138, 40)"
      ]
     },
     "execution_count": 10,
     "metadata": {},
     "output_type": "execute_result"
    }
   ],
   "source": [
    "As.shape"
   ]
  },
  {
   "cell_type": "markdown",
   "metadata": {},
   "source": [
    "# Separating New York City"
   ]
  },
  {
   "cell_type": "markdown",
   "metadata": {},
   "source": [
    "## Option a: CITY column"
   ]
  },
  {
   "cell_type": "markdown",
   "metadata": {},
   "source": [
    "Now I am trying to separate only the cases for New York City. There is indeed a city category, but in my experience, this is never something that works 100%\n",
    "A quick check shows that there are a lot of unique cities, which makes is not viable to check one by one."
   ]
  },
  {
   "cell_type": "code",
   "execution_count": 11,
   "metadata": {},
   "outputs": [
    {
     "data": {
      "text/plain": [
       "11138"
      ]
     },
     "execution_count": 11,
     "metadata": {},
     "output_type": "execute_result"
    }
   ],
   "source": [
    "len(As.CITY.unique())"
   ]
  },
  {
   "cell_type": "markdown",
   "metadata": {},
   "source": [
    "A quick `value_counts()` so we can see this data"
   ]
  },
  {
   "cell_type": "code",
   "execution_count": 12,
   "metadata": {},
   "outputs": [
    {
     "data": {
      "text/plain": [
       "NEW YORK          3072\n",
       "CHICAGO           1332\n",
       "WASHINGTON        1279\n",
       "LOS ANGELES       1080\n",
       "HOUSTON            955\n",
       "SAN FRANCISCO      948\n",
       "BROOKLYN           937\n",
       "PORTLAND           727\n",
       "PHILADELPHIA       676\n",
       "SEATTLE            642\n",
       "AUSTIN             573\n",
       "SAN DIEGO          553\n",
       "BEACHWOOD          515\n",
       "ATLANTA            508\n",
       "DALLAS             489\n",
       "SAINT LOUIS        455\n",
       "MINNEAPOLIS        451\n",
       "PITTSBURGH         435\n",
       "COLUMBUS           424\n",
       "DENVER             401\n",
       "MADISON            363\n",
       "CINCINNATI         353\n",
       "SAN ANTONIO        352\n",
       "BOSTON             352\n",
       "MIAMI              347\n",
       "COLUMBIA           341\n",
       "BALTIMORE          340\n",
       "HONOLULU           331\n",
       "OAKLAND            327\n",
       "INDIANAPOLIS       322\n",
       "                  ... \n",
       "GRIMES               1\n",
       "MELCHER DAL          1\n",
       "ST JAMES CITY        1\n",
       "ARDSLEY HDSN         1\n",
       "LARCHWOOD            1\n",
       "OGDEN DUNES          1\n",
       "LAUREL HILL          1\n",
       "BROUSSARD            1\n",
       "MONON                1\n",
       "MANGUM               1\n",
       "TANGIER              1\n",
       "ROMOLAND             1\n",
       "KOELTZTOWN           1\n",
       "IRA                  1\n",
       "CANYON COUNTRY       1\n",
       "HARFORD              1\n",
       "CREST HILL           1\n",
       "HORNER               1\n",
       "ALLEGANY             1\n",
       "TEHAMA               1\n",
       "FLYNN                1\n",
       "TRAVELERS RST        1\n",
       "ACRA                 1\n",
       "MCDADE               1\n",
       "JOINERVILLE          1\n",
       "BARODA               1\n",
       "CRAGSMOOR            1\n",
       "WEST BLOCTON         1\n",
       "NYE                  1\n",
       "CLAFLIN              1\n",
       "Name: CITY, Length: 11138, dtype: int64"
      ]
     },
     "execution_count": 12,
     "metadata": {},
     "output_type": "execute_result"
    }
   ],
   "source": [
    "As.CITY.value_counts()"
   ]
  },
  {
   "cell_type": "markdown",
   "metadata": {},
   "source": [
    "New York is the leading city, which makes sense. The problem is that it is not uncommon to see people putting their boroughs or even their neighbors as the city. So a quick check to see if the boroughs appear as city."
   ]
  },
  {
   "cell_type": "code",
   "execution_count": 13,
   "metadata": {},
   "outputs": [
    {
     "name": "stdout",
     "output_type": "stream",
     "text": [
      "True\n",
      "True\n",
      "True\n",
      "True\n",
      "True\n",
      "True\n"
     ]
    }
   ],
   "source": [
    "print('NEW YORK' in list(As.CITY))\n",
    "print('QUEENS' in list(As.CITY))\n",
    "print('BROOKLYN' in list(As.CITY))\n",
    "print('STATEN ISLAND' in list(As.CITY))\n",
    "print('MANHATTAN' in list(As.CITY))\n",
    "print('BRONX' in list(As.CITY))"
   ]
  },
  {
   "cell_type": "markdown",
   "metadata": {},
   "source": [
    "They all show up. It wouldn't be practical to search for other things such as neighborhoods and there is always the possibility of typos. For now we will just go with those options."
   ]
  },
  {
   "cell_type": "markdown",
   "metadata": {},
   "source": [
    "Now let's try to creat a subset using the column CITY with those names"
   ]
  },
  {
   "cell_type": "code",
   "execution_count": 14,
   "metadata": {},
   "outputs": [],
   "source": [
    "nya = As[(As.CITY == 'NEW YORK') \n",
    "        | (As.CITY == 'QUEENS')\n",
    "        | (As.CITY == 'BROOKLYN')\n",
    "        | (As.CITY == 'STATEN ISLAND')\n",
    "        | (As.CITY == 'MANHATTAN')\n",
    "        | (As.CITY == 'BRONX')]"
   ]
  },
  {
   "cell_type": "code",
   "execution_count": 15,
   "metadata": {},
   "outputs": [
    {
     "data": {
      "text/plain": [
       "NEW YORK         3072\n",
       "BROOKLYN          937\n",
       "BRONX             181\n",
       "STATEN ISLAND     110\n",
       "MANHATTAN          28\n",
       "QUEENS              5\n",
       "Name: CITY, dtype: int64"
      ]
     },
     "execution_count": 15,
     "metadata": {},
     "output_type": "execute_result"
    }
   ],
   "source": [
    "nya.CITY.value_counts()"
   ]
  },
  {
   "cell_type": "code",
   "execution_count": 16,
   "metadata": {},
   "outputs": [
    {
     "data": {
      "text/plain": [
       "(4333, 40)"
      ]
     },
     "execution_count": 16,
     "metadata": {},
     "output_type": "execute_result"
    }
   ],
   "source": [
    "nya.shape"
   ]
  },
  {
   "cell_type": "markdown",
   "metadata": {},
   "source": [
    "The value counts shows us how it was important to add the boroughs' names. If we hadn't, we would have missed more than a quarter of the institutions. "
   ]
  },
  {
   "cell_type": "markdown",
   "metadata": {},
   "source": [
    "## Option B: FIPS column"
   ]
  },
  {
   "cell_type": "markdown",
   "metadata": {},
   "source": [
    "Check how many institutions we get using the fips code. If the number is bigger, we will just use it. If it is smaller, we check the value_counts of the cities to see what \"cities\" we are missing here."
   ]
  },
  {
   "cell_type": "code",
   "execution_count": 17,
   "metadata": {},
   "outputs": [
    {
     "data": {
      "text/plain": [
       "6037.0     3574\n",
       "36061.0    3209\n",
       "17031.0    2132\n",
       "11001.0    1212\n",
       "53033.0    1125\n",
       "48201.0    1124\n",
       "6073.0     1056\n",
       "25017.0    1005\n",
       "39035.0    1001\n",
       "6075.0      968\n",
       "6001.0      897\n",
       "4013.0      883\n",
       "6059.0      864\n",
       "36047.0     840\n",
       "48113.0     755\n",
       "6085.0      747\n",
       "27053.0     725\n",
       "42101.0     702\n",
       "42003.0     620\n",
       "24031.0     610\n",
       "12086.0     598\n",
       "48453.0     567\n",
       "41051.0     549\n",
       "36081.0     545\n",
       "13121.0     536\n",
       "25025.0     504\n",
       "36103.0     502\n",
       "6067.0      485\n",
       "51059.0     481\n",
       "29189.0     478\n",
       "           ... \n",
       "38091.0       1\n",
       "38075.0       1\n",
       "38065.0       1\n",
       "38047.0       1\n",
       "40055.0       1\n",
       "40061.0       1\n",
       "38045.0       1\n",
       "20033.0       1\n",
       "40069.0       1\n",
       "38033.0       1\n",
       "38031.0       1\n",
       "38027.0       1\n",
       "20049.0       1\n",
       "40105.0       1\n",
       "12077.0       1\n",
       "38013.0       1\n",
       "38011.0       1\n",
       "8063.0        1\n",
       "1011.0        1\n",
       "40057.0       1\n",
       "2230.0        1\n",
       "46137.0       1\n",
       "5087.0        1\n",
       "46121.0       1\n",
       "29063.0       1\n",
       "27155.0       1\n",
       "46115.0       1\n",
       "22065.0       1\n",
       "46111.0       1\n",
       "47169.0       1\n",
       "Name: FIPS, Length: 3055, dtype: int64"
      ]
     },
     "execution_count": 17,
     "metadata": {},
     "output_type": "execute_result"
    }
   ],
   "source": [
    "As.FIPS.value_counts()"
   ]
  },
  {
   "cell_type": "markdown",
   "metadata": {},
   "source": [
    "Notice that these numbers all have a decimal point in the dataset. Need to remember this when creating the subset.\n",
    "\n",
    "The county FIPS for the new york state is 36. The counties for New York City are:\n",
    "\n",
    "    005 - Bronx\n",
    "    047 - Kings (Brooklyn)\n",
    "    061 - New York (Manhattan)\n",
    "    081 - Queens\n",
    "    085 - Richmond (Staten Island)\n",
    "\n"
   ]
  },
  {
   "cell_type": "code",
   "execution_count": 18,
   "metadata": {},
   "outputs": [],
   "source": [
    "nyb = As[(As.FIPS == 36005.0) |\n",
    "         (As.FIPS == 36047.0) |\n",
    "         (As.FIPS == 36061.0) |\n",
    "         (As.FIPS == 36081.0) |\n",
    "         (As.FIPS == 36085.0)]"
   ]
  },
  {
   "cell_type": "code",
   "execution_count": 19,
   "metadata": {},
   "outputs": [
    {
     "data": {
      "text/plain": [
       "36061.0    3209\n",
       "36047.0     840\n",
       "36081.0     545\n",
       "36005.0     182\n",
       "36085.0     120\n",
       "Name: FIPS, dtype: int64"
      ]
     },
     "execution_count": 19,
     "metadata": {},
     "output_type": "execute_result"
    }
   ],
   "source": [
    "nyb.FIPS.value_counts()"
   ]
  },
  {
   "cell_type": "code",
   "execution_count": 20,
   "metadata": {},
   "outputs": [
    {
     "data": {
      "text/plain": [
       "(4896, 40)"
      ]
     },
     "execution_count": 20,
     "metadata": {},
     "output_type": "execute_result"
    }
   ],
   "source": [
    "nyb.shape"
   ]
  },
  {
   "cell_type": "markdown",
   "metadata": {},
   "source": [
    "We found more results in this method than in the other (4896 x 4333), but the number of brooklyn cases is smaller now (840 x 937), which suggests us that we are still missing cases. Let us make a quick test and see what namer for CITY are showing up:"
   ]
  },
  {
   "cell_type": "code",
   "execution_count": 21,
   "metadata": {},
   "outputs": [
    {
     "data": {
      "text/plain": [
       "NEW YORK            2981\n",
       "BROOKLYN             843\n",
       "BRONX                177\n",
       "STATEN ISLAND        109\n",
       "ASTORIA               78\n",
       "FLUSHING              77\n",
       "JAMAICA               42\n",
       "LONG IS CITY          31\n",
       "NEW YORK CITY         26\n",
       "WOODSIDE              22\n",
       "JACKSON HTS           22\n",
       "FOREST HILLS          20\n",
       "LONG ISLAND CITY      20\n",
       "RIDGEWOOD             17\n",
       "ELMHURST              14\n",
       "SUNNYSIDE             13\n",
       "BAYSIDE               13\n",
       "EAST ELMHURST         10\n",
       "NYC                    9\n",
       "RICHMOND HILL          9\n",
       "QUEENS VLG             9\n",
       "JACKSON HEIGHTS        8\n",
       "NEWYORK                8\n",
       "FRESH MEADOWS          8\n",
       "DOUGLASTON             7\n",
       "COLLEGE POINT          7\n",
       "LOS ANGELES            7\n",
       "WASHINGTON             7\n",
       "REGO PARK              7\n",
       "ROSEDALE               6\n",
       "                    ... \n",
       "PARLIN                 1\n",
       "MONSEY                 1\n",
       "ENGLEWOOD CLIFFS       1\n",
       "LAGRANGEVILLE          1\n",
       "HOLLYWOOD              1\n",
       "SHORT HILLS            1\n",
       "SCARSDALE              1\n",
       "GENEVA                 1\n",
       "BROOKIYN               1\n",
       "NORTH MERRICK          1\n",
       "CARY                   1\n",
       "COLUMBIA               1\n",
       "WOODCLIFF LK           1\n",
       "GARDEN CITY            1\n",
       "NEW ORLEANS            1\n",
       "BREEZY POINT           1\n",
       "OLD CHATHAM            1\n",
       "FT MONTGOMERY          1\n",
       "TULSA                  1\n",
       "LAWRENCE               1\n",
       "GREAT NECK             1\n",
       "SOMERSET               1\n",
       "STONINGTON             1\n",
       "NEW HAVEN              1\n",
       "MOUNT VERNON           1\n",
       "SANTA BARBARA          1\n",
       "BELMONT                1\n",
       "ANDOVER                1\n",
       "THE BRONX              1\n",
       "SPRINGFIELD GDNS       1\n",
       "Name: CITY, Length: 230, dtype: int64"
      ]
     },
     "execution_count": 21,
     "metadata": {},
     "output_type": "execute_result"
    }
   ],
   "source": [
    "nyb.CITY.value_counts()"
   ]
  },
  {
   "cell_type": "markdown",
   "metadata": {},
   "source": [
    "This method is also not perfect. As we can see, we find institutions from baltimore, los angeles, miami... this shows us that there will still be cleaning to do later if we decide to go with this option"
   ]
  },
  {
   "cell_type": "markdown",
   "metadata": {},
   "source": [
    "One way we could do it, is by eliminating the cases that don't have 'NY' in the STATE column. The problem is that we saw earlier that the column STATE was not as complete as FIPS, so we could end up losing valid cases. The way to do it would be:"
   ]
  },
  {
   "cell_type": "code",
   "execution_count": 22,
   "metadata": {},
   "outputs": [
    {
     "data": {
      "text/plain": [
       "NY    4768\n",
       "NJ      29\n",
       "CA      14\n",
       "PA       8\n",
       "FL       7\n",
       "DC       7\n",
       "CT       6\n",
       "MA       5\n",
       "GA       4\n",
       "ME       3\n",
       "MI       3\n",
       "DE       3\n",
       "MD       3\n",
       "NC       3\n",
       "NM       2\n",
       "OR       2\n",
       "IL       2\n",
       "NV       2\n",
       "TX       2\n",
       "OK       2\n",
       "MN       2\n",
       "OH       2\n",
       "KY       2\n",
       "SC       2\n",
       "WA       2\n",
       "VI       1\n",
       "RI       1\n",
       "NH       1\n",
       "VT       1\n",
       "MS       1\n",
       "HI       1\n",
       "KS       1\n",
       "LA       1\n",
       "Name: STATE, dtype: int64"
      ]
     },
     "execution_count": 22,
     "metadata": {},
     "output_type": "execute_result"
    }
   ],
   "source": [
    "nyb.STATE.value_counts()"
   ]
  },
  {
   "cell_type": "code",
   "execution_count": 23,
   "metadata": {},
   "outputs": [],
   "source": [
    "nyb2 = nyb[nyb.STATE == 'NY']"
   ]
  },
  {
   "cell_type": "code",
   "execution_count": 24,
   "metadata": {},
   "outputs": [
    {
     "data": {
      "text/plain": [
       "NEW YORK                 2981\n",
       "BROOKLYN                  843\n",
       "BRONX                     177\n",
       "STATEN ISLAND             109\n",
       "ASTORIA                    78\n",
       "FLUSHING                   77\n",
       "JAMAICA                    42\n",
       "LONG IS CITY               31\n",
       "NEW YORK CITY              26\n",
       "JACKSON HTS                22\n",
       "WOODSIDE                   22\n",
       "LONG ISLAND CITY           20\n",
       "FOREST HILLS               20\n",
       "RIDGEWOOD                  16\n",
       "ELMHURST                   14\n",
       "SUNNYSIDE                  13\n",
       "BAYSIDE                    13\n",
       "EAST ELMHURST              10\n",
       "QUEENS VLG                  9\n",
       "RICHMOND HILL               9\n",
       "NYC                         9\n",
       "NEWYORK                     8\n",
       "FRESH MEADOWS               8\n",
       "JACKSON HEIGHTS             8\n",
       "DOUGLASTON                  7\n",
       "REGO PARK                   7\n",
       "COLLEGE POINT               7\n",
       "ROSEDALE                    6\n",
       "MANHATTAN                   5\n",
       "QUEENS                      5\n",
       "                         ... \n",
       "BROOKIYN                    1\n",
       "BEACON                      1\n",
       "NEPONSIT                    1\n",
       "FAIRPORT                    1\n",
       "LAGRANGEVILLE               1\n",
       "ROOSEVELT ISL               1\n",
       "MARLBORO                    1\n",
       "THIRD AVE NEW YORK          1\n",
       "FRANKLIN SQ                 1\n",
       "HAUPPAUGE                   1\n",
       "PUTNAM VALLEY               1\n",
       "AV OFTHE AMERICAS NEW       1\n",
       "SLEEPY HOLLOW               1\n",
       "GLENN OAK                   1\n",
       "FT MONTGOMERY               1\n",
       "ROSLYN HTS                  1\n",
       "BREEZY POINT                1\n",
       "PIERMONT                    1\n",
       "GENEVA                      1\n",
       "SMITHTOWN                   1\n",
       "LARCHMONT                   1\n",
       "WAPPINGERS FL               1\n",
       "WILLIAMSVILLE               1\n",
       "GREENPORT                   1\n",
       "LAWRENCE                    1\n",
       "KERHONKSON                  1\n",
       "EAST NORWICH                1\n",
       "MASSAPEQUA PK               1\n",
       "OAKLAND GARDENS             1\n",
       "LAKE SUCCESS                1\n",
       "Name: CITY, Length: 128, dtype: int64"
      ]
     },
     "execution_count": 24,
     "metadata": {},
     "output_type": "execute_result"
    }
   ],
   "source": [
    "nyb2.CITY.value_counts()"
   ]
  },
  {
   "cell_type": "code",
   "execution_count": 25,
   "metadata": {},
   "outputs": [
    {
     "data": {
      "text/plain": [
       "(4768, 40)"
      ]
     },
     "execution_count": 25,
     "metadata": {},
     "output_type": "execute_result"
    }
   ],
   "source": [
    "nyb2.shape "
   ]
  },
  {
   "cell_type": "markdown",
   "metadata": {},
   "source": [
    "We got rid of a little bit over a hundred cases, including some of those cities that were clearly wrong."
   ]
  },
  {
   "cell_type": "markdown",
   "metadata": {},
   "source": [
    "## Option C: ZIP5 column"
   ]
  },
  {
   "cell_type": "markdown",
   "metadata": {},
   "source": [
    "I looked for a list of zip codes from new york city and copied here:"
   ]
  },
  {
   "cell_type": "code",
   "execution_count": 26,
   "metadata": {},
   "outputs": [],
   "source": [
    "nyc_zipcodes = [10453, 10457, 10460,\n",
    "10458, 10467, 10468,\n",
    "10451, 10452, 10456,\n",
    "10454, 10455, 10459, 10474,\n",
    "10463, 10471,\n",
    "10466, 10469, 10470, 10475,\n",
    "10461, 10462,10464, 10465, 10472, 10473,\n",
    "11212, 11213, 11216, 11233, 11238,\n",
    "11209, 11214, 11228,\n",
    "11204, 11218, 11219, 11230,\n",
    "11234, 11236, 11239,\n",
    "11223, 11224, 11229, 11235,\n",
    "11201, 11205, 11215, 11217, 11231,\n",
    "11203, 11210, 11225, 11226,\n",
    "11207, 11208,\n",
    "11211, 11222,\n",
    "11220, 11232,\n",
    "11206, 11221, 11237,\n",
    "10026, 10027, 10030, 10037, 10039,\n",
    "10001, 10011, 10018, 10019, 10020, 10036,\n",
    "10029, 10035,\n",
    "10010, 10016, 10017, 10022,\n",
    "10012, 10013, 10014,\n",
    "10004, 10005, 10006, 10007, 10038, 10280,\n",
    "10002, 10003, 10009,\n",
    "10021, 10028, 10044, 10065, 10075, 10128,\n",
    "10023, 10024, 10025,\n",
    "10031, 10032, 10033, 10034, 10040,\n",
    "11361, 11362, 11363, 11364,\n",
    "11354, 11355, 11356, 11357, 11358, 11359, 11360,\n",
    "11365, 11366, 11367,\n",
    "11412, 11423, 11432, 11433, 11434, 11435, 11436,\n",
    "11101, 11102, 11103, 11104, 11105, 11106,\n",
    "11374, 11375, 11379, 11385,\n",
    "11691, 11692, 11693, 11694, 11695, 11697,\n",
    "11004, 11005, 11411, 11413, 11422, 11426, 11427, 11428, 11429,\n",
    "11414, 11415, 11416, 11417, 11418, 11419, 11420, 11421,\n",
    "11368, 11369, 11370, 11372, 11373, 11377, 11378,\n",
    "10302, 10303, 10310,\n",
    "10306, 10307, 10308, 10309, 10312,\n",
    "10301, 10304, 10305,\n",
    "10314]\n"
   ]
  },
  {
   "cell_type": "code",
   "execution_count": 27,
   "metadata": {},
   "outputs": [
    {
     "data": {
      "text/plain": [
       "44122.0    422\n",
       "20008.0    255\n",
       "10003.0    200\n",
       "10023.0    187\n",
       "10025.0    162\n",
       "10036.0    159\n",
       "10001.0    154\n",
       "10019.0    153\n",
       "10013.0    142\n",
       "10018.0    141\n",
       "10011.0    136\n",
       "94102.0    136\n",
       "10022.0    132\n",
       "10024.0    127\n",
       "20036.0    124\n",
       "94117.0    107\n",
       "19107.0    106\n",
       "60631.0    101\n",
       "10016.0    100\n",
       "10014.0     91\n",
       "11201.0     90\n",
       "0.0         90\n",
       "94110.0     89\n",
       "94103.0     86\n",
       "11217.0     86\n",
       "20006.0     82\n",
       "10017.0     81\n",
       "11215.0     81\n",
       "10012.0     80\n",
       "20001.0     78\n",
       "          ... \n",
       "49653.0      1\n",
       "56572.0      1\n",
       "33539.0      1\n",
       "78076.0      1\n",
       "5774.0       1\n",
       "62990.0      1\n",
       "35207.0      1\n",
       "30597.0      1\n",
       "48647.0      1\n",
       "38075.0      1\n",
       "53556.0      1\n",
       "73726.0      1\n",
       "4410.0       1\n",
       "99032.0      1\n",
       "27824.0      1\n",
       "58849.0      1\n",
       "54457.0      1\n",
       "13763.0      1\n",
       "35214.0      1\n",
       "38069.0      1\n",
       "28219.0      1\n",
       "43136.0      1\n",
       "77968.0      1\n",
       "28103.0      1\n",
       "76135.0      1\n",
       "70437.0      1\n",
       "78368.0      1\n",
       "76131.0      1\n",
       "92513.0      1\n",
       "77226.0      1\n",
       "Name: ZIP5, Length: 22055, dtype: int64"
      ]
     },
     "execution_count": 27,
     "metadata": {},
     "output_type": "execute_result"
    }
   ],
   "source": [
    "As.ZIP5.value_counts()"
   ]
  },
  {
   "cell_type": "markdown",
   "metadata": {},
   "source": [
    "The zipcodes are in float numbers, so I will make all make my list of zipcodes floats as well with a list comprehension. List comprehensions are one of the coolests tools python has. Make sure to read about them [here](https://www.pythonforbeginners.com/basics/list-comprehensions-in-python) but right now  as a quick way of creating/modifying a list based on conditions."
   ]
  },
  {
   "cell_type": "code",
   "execution_count": 28,
   "metadata": {},
   "outputs": [],
   "source": [
    "nyc_zipcodes = [float(zipcode) for zipcode in nyc_zipcodes]"
   ]
  },
  {
   "cell_type": "code",
   "execution_count": 29,
   "metadata": {},
   "outputs": [
    {
     "data": {
      "text/plain": [
       "[10453.0,\n",
       " 10457.0,\n",
       " 10460.0,\n",
       " 10458.0,\n",
       " 10467.0,\n",
       " 10468.0,\n",
       " 10451.0,\n",
       " 10452.0,\n",
       " 10456.0,\n",
       " 10454.0,\n",
       " 10455.0,\n",
       " 10459.0,\n",
       " 10474.0,\n",
       " 10463.0,\n",
       " 10471.0,\n",
       " 10466.0,\n",
       " 10469.0,\n",
       " 10470.0,\n",
       " 10475.0,\n",
       " 10461.0,\n",
       " 10462.0,\n",
       " 10464.0,\n",
       " 10465.0,\n",
       " 10472.0,\n",
       " 10473.0,\n",
       " 11212.0,\n",
       " 11213.0,\n",
       " 11216.0,\n",
       " 11233.0,\n",
       " 11238.0,\n",
       " 11209.0,\n",
       " 11214.0,\n",
       " 11228.0,\n",
       " 11204.0,\n",
       " 11218.0,\n",
       " 11219.0,\n",
       " 11230.0,\n",
       " 11234.0,\n",
       " 11236.0,\n",
       " 11239.0,\n",
       " 11223.0,\n",
       " 11224.0,\n",
       " 11229.0,\n",
       " 11235.0,\n",
       " 11201.0,\n",
       " 11205.0,\n",
       " 11215.0,\n",
       " 11217.0,\n",
       " 11231.0,\n",
       " 11203.0,\n",
       " 11210.0,\n",
       " 11225.0,\n",
       " 11226.0,\n",
       " 11207.0,\n",
       " 11208.0,\n",
       " 11211.0,\n",
       " 11222.0,\n",
       " 11220.0,\n",
       " 11232.0,\n",
       " 11206.0,\n",
       " 11221.0,\n",
       " 11237.0,\n",
       " 10026.0,\n",
       " 10027.0,\n",
       " 10030.0,\n",
       " 10037.0,\n",
       " 10039.0,\n",
       " 10001.0,\n",
       " 10011.0,\n",
       " 10018.0,\n",
       " 10019.0,\n",
       " 10020.0,\n",
       " 10036.0,\n",
       " 10029.0,\n",
       " 10035.0,\n",
       " 10010.0,\n",
       " 10016.0,\n",
       " 10017.0,\n",
       " 10022.0,\n",
       " 10012.0,\n",
       " 10013.0,\n",
       " 10014.0,\n",
       " 10004.0,\n",
       " 10005.0,\n",
       " 10006.0,\n",
       " 10007.0,\n",
       " 10038.0,\n",
       " 10280.0,\n",
       " 10002.0,\n",
       " 10003.0,\n",
       " 10009.0,\n",
       " 10021.0,\n",
       " 10028.0,\n",
       " 10044.0,\n",
       " 10065.0,\n",
       " 10075.0,\n",
       " 10128.0,\n",
       " 10023.0,\n",
       " 10024.0,\n",
       " 10025.0,\n",
       " 10031.0,\n",
       " 10032.0,\n",
       " 10033.0,\n",
       " 10034.0,\n",
       " 10040.0,\n",
       " 11361.0,\n",
       " 11362.0,\n",
       " 11363.0,\n",
       " 11364.0,\n",
       " 11354.0,\n",
       " 11355.0,\n",
       " 11356.0,\n",
       " 11357.0,\n",
       " 11358.0,\n",
       " 11359.0,\n",
       " 11360.0,\n",
       " 11365.0,\n",
       " 11366.0,\n",
       " 11367.0,\n",
       " 11412.0,\n",
       " 11423.0,\n",
       " 11432.0,\n",
       " 11433.0,\n",
       " 11434.0,\n",
       " 11435.0,\n",
       " 11436.0,\n",
       " 11101.0,\n",
       " 11102.0,\n",
       " 11103.0,\n",
       " 11104.0,\n",
       " 11105.0,\n",
       " 11106.0,\n",
       " 11374.0,\n",
       " 11375.0,\n",
       " 11379.0,\n",
       " 11385.0,\n",
       " 11691.0,\n",
       " 11692.0,\n",
       " 11693.0,\n",
       " 11694.0,\n",
       " 11695.0,\n",
       " 11697.0,\n",
       " 11004.0,\n",
       " 11005.0,\n",
       " 11411.0,\n",
       " 11413.0,\n",
       " 11422.0,\n",
       " 11426.0,\n",
       " 11427.0,\n",
       " 11428.0,\n",
       " 11429.0,\n",
       " 11414.0,\n",
       " 11415.0,\n",
       " 11416.0,\n",
       " 11417.0,\n",
       " 11418.0,\n",
       " 11419.0,\n",
       " 11420.0,\n",
       " 11421.0,\n",
       " 11368.0,\n",
       " 11369.0,\n",
       " 11370.0,\n",
       " 11372.0,\n",
       " 11373.0,\n",
       " 11377.0,\n",
       " 11378.0,\n",
       " 10302.0,\n",
       " 10303.0,\n",
       " 10310.0,\n",
       " 10306.0,\n",
       " 10307.0,\n",
       " 10308.0,\n",
       " 10309.0,\n",
       " 10312.0,\n",
       " 10301.0,\n",
       " 10304.0,\n",
       " 10305.0,\n",
       " 10314.0]"
      ]
     },
     "execution_count": 29,
     "metadata": {},
     "output_type": "execute_result"
    }
   ],
   "source": [
    "nyc_zipcodes"
   ]
  },
  {
   "cell_type": "markdown",
   "metadata": {},
   "source": [
    "It worked!\n",
    "Now, let's create our subset with all case whose values on the ZIP5 column are in our nyc_zipcodes list, using the method `.isin()`"
   ]
  },
  {
   "cell_type": "code",
   "execution_count": 30,
   "metadata": {},
   "outputs": [],
   "source": [
    "nyc = As[As.ZIP5.isin(nyc_zipcodes)]"
   ]
  },
  {
   "cell_type": "code",
   "execution_count": 31,
   "metadata": {},
   "outputs": [
    {
     "data": {
      "text/plain": [
       "NEW YORK            2744\n",
       "BROOKLYN             810\n",
       "BRONX                176\n",
       "STATEN ISLAND        109\n",
       "ASTORIA               78\n",
       "FLUSHING              74\n",
       "JAMAICA               38\n",
       "LONG IS CITY          30\n",
       "NEW YORK CITY         23\n",
       "WOODSIDE              22\n",
       "JACKSON HTS           22\n",
       "FOREST HILLS          20\n",
       "LONG ISLAND CITY      18\n",
       "RIDGEWOOD             16\n",
       "BAYSIDE               13\n",
       "SUNNYSIDE             13\n",
       "ELMHURST              12\n",
       "EAST ELMHURST         10\n",
       "QUEENS VLG             9\n",
       "RICHMOND HILL          9\n",
       "NYC                    9\n",
       "JACKSON HEIGHTS        8\n",
       "NEWYORK                8\n",
       "FRESH MEADOWS          8\n",
       "REGO PARK              7\n",
       "DOUGLASTON             7\n",
       "COLLEGE POINT          7\n",
       "WASHINGTON             6\n",
       "ROSEDALE               6\n",
       "LOS ANGELES            6\n",
       "                    ... \n",
       "UPR MONTCLAIR          1\n",
       "PARLIN                 1\n",
       "MONSEY                 1\n",
       "LAGRANGEVILLE          1\n",
       "HOLLYWOOD              1\n",
       "SHORT HILLS            1\n",
       "KAMUELA                1\n",
       "PUTNAM VALLEY          1\n",
       "HOBOKEN                1\n",
       "NORTH MERRICK          1\n",
       "BROOKIYN               1\n",
       "THE BRONX              1\n",
       "CARY                   1\n",
       "COLUMBIA               1\n",
       "WOODCLIFF LK           1\n",
       "GARDEN CITY            1\n",
       "NEW ORLEANS            1\n",
       "OLD CHATHAM            1\n",
       "FT MONTGOMERY          1\n",
       "TULSA                  1\n",
       "LAWRENCE               1\n",
       "GREAT NECK             1\n",
       "SOMERSET               1\n",
       "STONINGTON             1\n",
       "NEW HAVEN              1\n",
       "MOUNT VERNON           1\n",
       "SANTA BARBARA          1\n",
       "BELMONT                1\n",
       "ANDOVER                1\n",
       "SPRINGFIELD GDNS       1\n",
       "Name: CITY, Length: 215, dtype: int64"
      ]
     },
     "execution_count": 31,
     "metadata": {},
     "output_type": "execute_result"
    }
   ],
   "source": [
    "nyc.CITY.value_counts()"
   ]
  },
  {
   "cell_type": "code",
   "execution_count": 32,
   "metadata": {},
   "outputs": [
    {
     "data": {
      "text/plain": [
       "(4587, 40)"
      ]
     },
     "execution_count": 32,
     "metadata": {},
     "output_type": "execute_result"
    }
   ],
   "source": [
    "nyc.shape # now we got rid of another three hundred cases"
   ]
  },
  {
   "cell_type": "markdown",
   "metadata": {},
   "source": [
    "If we want to be thorough, we could try to find the cases that are in one option and not in the others, and analyze them individually to see if they should be in or out of our dataset. That will require some more time.\n",
    "\n",
    "Another option is to choose one of the methods above, plot it by address+zip and take out all the cases that are outside of the city. This will be much quicker.\n",
    "\n",
    "Of course, this would be done after we had finished selecting the NTEECC codes, which would make our sample smaller and easier to deal with.\n",
    "\n",
    "If I had to choose right now between the options a, b or c, I would go with c, the one that works with zipcodes. CITY has too many typos, there are much more institutions without a FIPS value than a ZIP5 value. "
   ]
  },
  {
   "cell_type": "markdown",
   "metadata": {},
   "source": [
    "# Exporting as csv\n",
    "\n",
    "Once our dataset is ready, we can use the `.to_csv()` method to export it"
   ]
  },
  {
   "cell_type": "code",
   "execution_count": 34,
   "metadata": {},
   "outputs": [],
   "source": [
    "nyc.to_csv('nyc_arts.csv')"
   ]
  },
  {
   "cell_type": "markdown",
   "metadata": {},
   "source": [
    "# Things to do / next steps"
   ]
  },
  {
   "cell_type": "markdown",
   "metadata": {},
   "source": [
    "- choose the NTEECC codes\n",
    "- after we are done with selecting the data, check the dictionary and choose what columns we want to work with\n",
    "- generate a csv and share it with everyone"
   ]
  },
  {
   "cell_type": "code",
   "execution_count": null,
   "metadata": {},
   "outputs": [],
   "source": []
  }
 ],
 "metadata": {
  "kernelspec": {
   "display_name": "Python 3",
   "language": "python",
   "name": "python3"
  },
  "language_info": {
   "codemirror_mode": {
    "name": "ipython",
    "version": 3
   },
   "file_extension": ".py",
   "mimetype": "text/x-python",
   "name": "python",
   "nbconvert_exporter": "python",
   "pygments_lexer": "ipython3",
   "version": "3.7.2"
  }
 },
 "nbformat": 4,
 "nbformat_minor": 2
}
